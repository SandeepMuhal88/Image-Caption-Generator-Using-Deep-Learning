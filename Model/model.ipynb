{
 "cells": [
  {
   "cell_type": "code",
   "execution_count": 1,
   "id": "7ee1ce08",
   "metadata": {},
   "outputs": [],
   "source": [
    "import numpy as np\n",
    "import os\n",
    "import tensorflow\n",
    "from tensorflow import keras\n",
    "from tensorflow.keras.preprocessing.image import load_img, img_to_array\n",
    "from tensorflow.keras.applications.vgg16 import VGG16, preprocess_input\n",
    "from tensorflow.keras.models import Model"
   ]
  },
  {
   "cell_type": "code",
   "execution_count": null,
   "id": "02936823",
   "metadata": {},
   "outputs": [],
   "source": [
    "#Feature extraction using VGG16\n",
    "\n",
    "def extract_features(images_dir):\n",
    "    # Load the VGG16 Model\n",
    "    base_model = VGG16(weights='imagenet')\n",
    "    model = Model(inputs=base_model.inputs, outputs=base_model.layers[-2].output)\n",
    "    features = {}\n",
    "    for img in os.listdir(images_dir):\n",
    "        #only process image files\n",
    "        if not img.lower().endwith(('.jpg', '.jpeg', '.png', '.bmp')):\n",
    "            continue\n",
    "        #load image from file\n",
    "        img_path =os.path.join(images_dir, img)\n",
    "        # resize the image\n",
    "        image=load_img(img_path, target_size=(224, 224))\n",
    "        # convert the image pixels to a numpy array\n",
    "        image=img_to_array(image)\n",
    "        # reshape data for the model\n",
    "        image=image.reshape((1, image.shape[0], image.shape[1], image.shape[2]))  #1,224,224,3\n",
    "        # prepare the image for the VGG model\n",
    "        image=preprocess_input(image)\n",
    "        # get features\n",
    "        feature=model.predict(image, verbose=0)\n",
    "        # get image id\n",
    "        image_id=img.split('.')[0]\n",
    "        # store feature\n",
    "        features[image_id]=feature\n",
    "        print('>%s' % img)\n",
    "    return features"
   ]
  }
 ],
 "metadata": {
  "kernelspec": {
   "display_name": ".tensorli (3.11.0)",
   "language": "python",
   "name": "python3"
  },
  "language_info": {
   "codemirror_mode": {
    "name": "ipython",
    "version": 3
   },
   "file_extension": ".py",
   "mimetype": "text/x-python",
   "name": "python",
   "nbconvert_exporter": "python",
   "pygments_lexer": "ipython3",
   "version": "3.11.9"
  }
 },
 "nbformat": 4,
 "nbformat_minor": 5
}
